{
 "cells": [
  {
   "cell_type": "code",
   "execution_count": 1,
   "id": "f87330c9",
   "metadata": {},
   "outputs": [
    {
     "name": "stdout",
     "output_type": "stream",
     "text": [
      "running\n"
     ]
    }
   ],
   "source": [
    "print(\"running\")"
   ]
  },
  {
   "cell_type": "code",
   "execution_count": 4,
   "id": "bfa890a1",
   "metadata": {},
   "outputs": [],
   "source": [
    "import logging\n",
    "import os\n",
    "from datetime import datetime"
   ]
  },
  {
   "cell_type": "code",
   "execution_count": 6,
   "id": "1d71d835",
   "metadata": {},
   "outputs": [],
   "source": [
    "logs_dir=os.path.join(os.getcwd(), \"logs\")"
   ]
  },
  {
   "cell_type": "code",
   "execution_count": 7,
   "id": "e714d859",
   "metadata": {},
   "outputs": [],
   "source": [
    "os.makedirs(logs_dir, exist_ok=True)"
   ]
  },
  {
   "cell_type": "code",
   "execution_count": 9,
   "id": "6eb73cf5",
   "metadata": {},
   "outputs": [
    {
     "data": {
      "text/plain": [
       "'2025-07-26_14-43-51.log.log'"
      ]
     },
     "execution_count": 9,
     "metadata": {},
     "output_type": "execute_result"
    }
   ],
   "source": [
    "#rewrite below code to use f-string for log filename\n",
    "LOG_FILENAME = datetime.now().strftime(\"%Y-%m-%d_%H-%M-%S.log\") + \".log\"\n",
    "LOG_FILENAME"
   ]
  },
  {
   "cell_type": "code",
   "execution_count": 10,
   "id": "facc90f7",
   "metadata": {},
   "outputs": [],
   "source": [
    "LOG_FILE=os.path.join(logs_dir, LOG_FILENAME)"
   ]
  },
  {
   "cell_type": "code",
   "execution_count": 12,
   "id": "07c76f29",
   "metadata": {},
   "outputs": [],
   "source": [
    "logging.basicConfig(\n",
    "    filename=LOG_FILE,\n",
    "    format='%(asctime)s - %(name)s - %(levelname)s - %(message)s',\n",
    "    level=logging.INFO\n",
    ")"
   ]
  },
  {
   "cell_type": "code",
   "execution_count": 13,
   "id": "bd3e6160",
   "metadata": {},
   "outputs": [],
   "source": [
    "logging.getLogger().info(\"Logging setup complete. Log file created at: %s\", LOG_FILE)"
   ]
  },
  {
   "cell_type": "code",
   "execution_count": null,
   "id": "3857f7f1",
   "metadata": {},
   "outputs": [],
   "source": []
  }
 ],
 "metadata": {
  "kernelspec": {
   "display_name": "venv",
   "language": "python",
   "name": "python3"
  },
  "language_info": {
   "codemirror_mode": {
    "name": "ipython",
    "version": 3
   },
   "file_extension": ".py",
   "mimetype": "text/x-python",
   "name": "python",
   "nbconvert_exporter": "python",
   "pygments_lexer": "ipython3",
   "version": "3.10.18"
  }
 },
 "nbformat": 4,
 "nbformat_minor": 5
}
